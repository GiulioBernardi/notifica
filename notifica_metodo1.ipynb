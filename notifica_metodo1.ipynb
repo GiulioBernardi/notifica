{
 "cells": [
  {
   "cell_type": "markdown",
   "metadata": {},
   "source": [
    "## 1 Libs imports"
   ]
  },
  {
   "cell_type": "code",
   "execution_count": 1,
   "metadata": {},
   "outputs": [],
   "source": [
    "import os\n",
    "import time\n",
    "from datetime import datetime\n",
    "import shutil\n",
    "import smtplib"
   ]
  },
  {
   "cell_type": "markdown",
   "metadata": {},
   "source": [
    "## 2: Funcion definition to send an e-mail"
   ]
  },
  {
   "cell_type": "code",
   "execution_count": 3,
   "metadata": {},
   "outputs": [],
   "source": [
    "def send_email():\n",
    "    server = smtplib.SMTP('smtp.server.com.br', 'port:int')\n",
    "    server.starttls()\n",
    "    server.login(\"email\", \"email_account_password\")\n",
    "\n",
    "    new_uptade_message = \"The 'obr.xls' file just got updated\" \n",
    "    email_message = 'Subject: {}\\n\\n{}'.format(\"New 'obr.xls' update\", new_uptade_message)\n",
    "\n",
    "    receivers = [\"email address list\"]\n",
    "\n",
    "    server.sendmail(\"email sender\", receivers, email_message)\n",
    "    server.quit()"
   ]
  },
  {
   "cell_type": "markdown",
   "metadata": {},
   "source": [
    "## 3: Function definition that copy the excel files from directories"
   ]
  },
  {
   "cell_type": "code",
   "execution_count": null,
   "metadata": {},
   "outputs": [],
   "source": [
    "local_folder = 'folder path where I want to store the excel files'\n",
    "\n",
    "def copy_tb_orb():\n",
    "    shutil.copy2('full path of the excel file', local_folder)\n",
    "\n",
    "def copy_tb_preco():\n",
    "    shutil.copy2(r'full path of the excel file', local_folder)"
   ]
  },
  {
   "cell_type": "markdown",
   "metadata": {},
   "source": [
    "## 4: Function that converts string dates to date type"
   ]
  },
  {
   "cell_type": "code",
   "execution_count": null,
   "metadata": {},
   "outputs": [],
   "source": [
    "def str_to_date_conversor(lmd_file):\n",
    "        return datetime.strptime(lmd_file, '%d/%m/%Y %H:%M:%S')"
   ]
  },
  {
   "cell_type": "markdown",
   "metadata": {},
   "source": [
    "## 5: Main"
   ]
  },
  {
   "cell_type": "code",
   "execution_count": null,
   "metadata": {},
   "outputs": [],
   "source": [
    "try:\n",
    "    copy_tb_preco()\n",
    "    copy_tb_orb()\n",
    "    \n",
    "    tb_orb = \"table name\"\n",
    "    #Last moddified date of tb_preco\n",
    "    lmd_tb_obr = time.strftime(\"%d/%m/%Y %H:%M:%S\", time.localtime(os.path.getmtime(tb_orb)))\n",
    "    \n",
    "    tb_preco = \"table name\"\n",
    "    #Last moddified date of tb_preco\n",
    "    lmd_tb_preco = time.strftime(\"%d/%m/%Y %H:%M:%S\", time.localtime(os.path.getmtime(tb_preco)))\n",
    "\n",
    "    is_preco_out_to_date = str_to_date_conversor(lmd_tb_preco) < str_to_date_conversor(lmd_tb_obr)\n",
    "\n",
    "    if(is_preco_out_to_date):\n",
    "        send_email()\n",
    "        \n",
    "    else:\n",
    "        print(\"Don't need to check\")\n",
    "\n",
    "    os.remove(tb_orb)\n",
    "    os.remove(tb_preco)\n",
    "except NameError:\n",
    "    print(\"Define the previous code cells to define the functions\")\n",
    "\n",
    "except FileNotFoundError:\n",
    "    print(\"Check your Internet conection and VPN conection\")\n",
    "\n",
    "#debug: \n",
    "print(\"Last Modified Date obr: \" + lmd_tb_obr)\n",
    "print(\"Last Modified Date preço: \" + lmd_tb_preco)"
   ]
  }
 ],
 "metadata": {
  "interpreter": {
   "hash": "0dbf465e1d105dd245fb64f906949b8e691a1bdd7c29ebbbf0e046c1c9fa1ba5"
  },
  "kernelspec": {
   "display_name": "Python 3.9.7 64-bit",
   "language": "python",
   "name": "python3"
  },
  "language_info": {
   "codemirror_mode": {
    "name": "ipython",
    "version": 3
   },
   "file_extension": ".py",
   "mimetype": "text/x-python",
   "name": "python",
   "nbconvert_exporter": "python",
   "pygments_lexer": "ipython3",
   "version": "3.9.7"
  },
  "orig_nbformat": 4
 },
 "nbformat": 4,
 "nbformat_minor": 2
}
