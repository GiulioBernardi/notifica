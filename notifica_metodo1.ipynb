{
 "cells": [
  {
   "cell_type": "markdown",
   "metadata": {},
   "source": [
    "## 1 Import das libs necessárias"
   ]
  },
  {
   "cell_type": "code",
   "execution_count": 1,
   "metadata": {},
   "outputs": [],
   "source": [
    "import os\n",
    "import time\n",
    "from datetime import datetime\n",
    "import shutil\n",
    "import smtplib"
   ]
  },
  {
   "cell_type": "markdown",
   "metadata": {},
   "source": [
    "## 2: Definição da função que manda email"
   ]
  },
  {
   "cell_type": "code",
   "execution_count": 3,
   "metadata": {},
   "outputs": [],
   "source": [
    "def manda_email():\n",
    "    server = smtplib.SMTP('smtp.server.com.br', port)\n",
    "    server.starttls()\n",
    "    server.login(\"email\", \"senha_do_email\")\n",
    "\n",
    "    versao_nova_msg = \"A planilha de Obrigacoes sofreu uma atualizacao, cheque por novas obrigações\" \n",
    "    email = 'Subject: {}\\n\\n{}'.format(\"Nova atualizacao na planilha Obrigacoes\", versao_nova_msg)\n",
    "\n",
    "    recebedores = [\"lista de emaisl das pessoas que devem receber a mensagem\"]\n",
    "\n",
    "    server.sendmail(\"email de quem envia a mensagem\", recebedores, email)\n",
    "    server.quit()"
   ]
  },
  {
   "cell_type": "markdown",
   "metadata": {},
   "source": [
    "## 3: Funções que copiam as tabelas do seu diretório original"
   ]
  },
  {
   "cell_type": "code",
   "execution_count": null,
   "metadata": {},
   "outputs": [],
   "source": [
    "pasta_padrao = 'endereço para onde as tabelas serão copiadas'\n",
    "\n",
    "def copy_tb_orb():\n",
    "    shutil.copy2('endereço completo da tabela no diretório da empresa', pasta_padrao)\n",
    "\n",
    "def copy_tb_preco():\n",
    "    shutil.copy2(r'endereço completo da tabela no diretório da empresa', pasta_padrao)"
   ]
  },
  {
   "cell_type": "markdown",
   "metadata": {},
   "source": [
    "## 4: Converte as datas que originalmente são em string, para data. Para que possam ser comparadas"
   ]
  },
  {
   "cell_type": "code",
   "execution_count": null,
   "metadata": {},
   "outputs": [],
   "source": [
    "def str_to_date_conversor(lmd_file):\n",
    "        return datetime.strptime(lmd_file, '%d/%m/%Y %H:%M:%S')"
   ]
  },
  {
   "cell_type": "markdown",
   "metadata": {},
   "source": [
    "## 5: Código principal"
   ]
  },
  {
   "cell_type": "code",
   "execution_count": null,
   "metadata": {},
   "outputs": [],
   "source": [
    "try:\n",
    "    copy_tb_preco()\n",
    "    copy_tb_orb()\n",
    "    \n",
    "    #Endereço para o arquivo copiado\n",
    "    tb_orb = \"nome da tabela\"\n",
    "    #Data da última modificaçao feita ao arquivo tb_orb\n",
    "    lmd_tb_obr = time.strftime(\"%d/%m/%Y %H:%M:%S\", time.localtime(os.path.getmtime(tb_orb)))\n",
    "    \n",
    "    #Path para o arquivo copiado\n",
    "    tb_preco = \"nome da tabela\"\n",
    "    #Data da última modificaçao feita ao arquivo tb_preco\n",
    "    lmd_tb_preco = time.strftime(\"%d/%m/%Y %H:%M:%S\", time.localtime(os.path.getmtime(tb_preco)))\n",
    "\n",
    "    is_preco_out_to_date = str_to_date_conversor(lmd_tb_preco) < str_to_date_conversor(lmd_tb_obr)\n",
    "\n",
    "    if(is_preco_out_to_date):\n",
    "        manda_email()\n",
    "        \n",
    "    else:\n",
    "        print(\"Ta tudo de boa\")\n",
    "\n",
    "    os.remove(tb_orb)\n",
    "    os.remove(tb_preco)\n",
    "except NameError:\n",
    "    print(\"Rode as células de definição de função\")\n",
    "\n",
    "except FileNotFoundError:\n",
    "    print(\"Verifique a sua conexão à VPN ou à Internet\")\n",
    "\n",
    "#para debug: \n",
    "print(\"Ultima modificação obr: \" + lmd_tb_obr)\n",
    "print(\"Ultima modificação tabela de preço: \" + lmd_tb_preco)"
   ]
  }
 ],
 "metadata": {
  "interpreter": {
   "hash": "0dbf465e1d105dd245fb64f906949b8e691a1bdd7c29ebbbf0e046c1c9fa1ba5"
  },
  "kernelspec": {
   "display_name": "Python 3.9.7 64-bit",
   "language": "python",
   "name": "python3"
  },
  "language_info": {
   "codemirror_mode": {
    "name": "ipython",
    "version": 3
   },
   "file_extension": ".py",
   "mimetype": "text/x-python",
   "name": "python",
   "nbconvert_exporter": "python",
   "pygments_lexer": "ipython3",
   "version": "3.9.7"
  },
  "orig_nbformat": 4
 },
 "nbformat": 4,
 "nbformat_minor": 2
}
